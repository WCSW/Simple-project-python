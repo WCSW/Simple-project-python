{
 "cells": [
  {
   "cell_type": "markdown",
   "id": "34891355",
   "metadata": {},
   "source": [
    "# Linear Search"
   ]
  },
  {
   "cell_type": "code",
   "execution_count": 1,
   "id": "df71a3b6",
   "metadata": {},
   "outputs": [],
   "source": [
    "def linear_search(item,my_list):\n",
    "    i = 0\n",
    "    found = False\n",
    "    \n",
    "    while i < len(my_list) and found == False:\n",
    "        if my_list[i] == item:\n",
    "            found = True\n",
    "        else:\n",
    "            i += 1\n",
    "\n",
    "    return found"
   ]
  },
  {
   "cell_type": "code",
   "execution_count": 8,
   "id": "dc5322af",
   "metadata": {},
   "outputs": [
    {
     "data": {
      "text/plain": [
       "False"
      ]
     },
     "execution_count": 8,
     "metadata": {},
     "output_type": "execute_result"
    }
   ],
   "source": [
    "linear_search(5,[1,2,3,4,70])"
   ]
  },
  {
   "cell_type": "code",
   "execution_count": 9,
   "id": "024892f5",
   "metadata": {},
   "outputs": [
    {
     "data": {
      "text/plain": [
       "True"
      ]
     },
     "execution_count": 9,
     "metadata": {},
     "output_type": "execute_result"
    }
   ],
   "source": [
    "linear_search(5,[1,2,3,5,4,70])"
   ]
  },
  {
   "cell_type": "markdown",
   "id": "f57cbdf1",
   "metadata": {},
   "source": [
    "# Binary Search"
   ]
  },
  {
   "cell_type": "code",
   "execution_count": 4,
   "id": "9fb8eaae",
   "metadata": {},
   "outputs": [],
   "source": [
    "def binary_search(item,my_list):\n",
    "    found = False\n",
    "    first = 0\n",
    "    last = len(my_list) -1\n",
    "    \n",
    "    while first <= last and found == False:\n",
    "        mid_point = (first + last)//2\n",
    "        \n",
    "        if my_list[mid_point] == item :\n",
    "            found = True\n",
    "        else:\n",
    "            if my_list[mid_point] < item:\n",
    "                first = mid_point + 1\n",
    "            else:\n",
    "                last = mid_point - 1\n",
    "    return found"
   ]
  },
  {
   "cell_type": "code",
   "execution_count": 5,
   "id": "688c4752",
   "metadata": {},
   "outputs": [
    {
     "data": {
      "text/plain": [
       "True"
      ]
     },
     "execution_count": 5,
     "metadata": {},
     "output_type": "execute_result"
    }
   ],
   "source": [
    "binary_search(\"A\",[\"A\",\"B\",\"C\",\"D\",\"E\"])"
   ]
  },
  {
   "cell_type": "code",
   "execution_count": 6,
   "id": "231ed017",
   "metadata": {},
   "outputs": [
    {
     "data": {
      "text/plain": [
       "False"
      ]
     },
     "execution_count": 6,
     "metadata": {},
     "output_type": "execute_result"
    }
   ],
   "source": [
    "binary_search(\"A\",[\"Z\",\"B\",\"C\",\"D\",\"E\"])"
   ]
  },
  {
   "cell_type": "markdown",
   "id": "51693f39",
   "metadata": {},
   "source": [
    "# Insertion sort"
   ]
  },
  {
   "cell_type": "code",
   "execution_count": 10,
   "id": "f601d819",
   "metadata": {},
   "outputs": [],
   "source": [
    "def insertion_sort(my_list):\n",
    "    n = len(my_list)\n",
    "    for i in range(1,n):\n",
    "        value = my_list[i]\n",
    "        j = i\n",
    "        \n",
    "        while j > 0 and my_list[j-1] > value:\n",
    "            my_list[j] = my_list[j-1]\n",
    "            j -= 1\n",
    "        my_list[j] = value\n",
    "        \n",
    "    return my_list\n",
    "    "
   ]
  },
  {
   "cell_type": "code",
   "execution_count": 11,
   "id": "ac4a2914",
   "metadata": {},
   "outputs": [],
   "source": [
    "sorted_list = insertion_sort([34,645,34,346,4,4,434,3434,4343,443,43,4343,434,6,56,6,6767,87,0,0,7,5,6,9])"
   ]
  },
  {
   "cell_type": "code",
   "execution_count": 12,
   "id": "8f39e1bf",
   "metadata": {},
   "outputs": [
    {
     "name": "stdout",
     "output_type": "stream",
     "text": [
      "[0, 0, 4, 4, 5, 6, 6, 6, 7, 9, 34, 34, 43, 56, 87, 346, 434, 434, 443, 645, 3434, 4343, 4343, 6767]\n"
     ]
    }
   ],
   "source": [
    "print(sorted_list)"
   ]
  },
  {
   "cell_type": "code",
   "execution_count": null,
   "id": "61b70172",
   "metadata": {},
   "outputs": [],
   "source": []
  }
 ],
 "metadata": {
  "kernelspec": {
   "display_name": "Python 3",
   "language": "python",
   "name": "python3"
  },
  "language_info": {
   "codemirror_mode": {
    "name": "ipython",
    "version": 3
   },
   "file_extension": ".py",
   "mimetype": "text/x-python",
   "name": "python",
   "nbconvert_exporter": "python",
   "pygments_lexer": "ipython3",
   "version": "3.8.8"
  }
 },
 "nbformat": 4,
 "nbformat_minor": 5
}
